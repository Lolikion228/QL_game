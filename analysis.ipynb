{
 "cells": [
  {
   "cell_type": "code",
   "execution_count": null,
   "id": "4a8e6398-e64f-48a7-8150-c910c2688ac9",
   "metadata": {},
   "outputs": [],
   "source": [
    "import polars as pl"
   ]
  },
  {
   "cell_type": "code",
   "execution_count": null,
   "id": "0864c78e-5e5e-4eb0-9226-b85e0a95103d",
   "metadata": {},
   "outputs": [],
   "source": [
    "def read_log():\n",
    "    f = open('./logs/log.txt', 'r')\n",
    "    lines = f.readlines()\n",
    "    f.close()\n",
    "    \n",
    "    #eps, gamma, lr, step_reward, reward, moves, traps, energy, time\n",
    "    lines = list( map(lambda x: x.strip().split(), lines) )\n",
    "    lines = list( map(lambda x: list(map(float, x) ), lines) )\n",
    "    cnt = len(lines)\n",
    "    lines = [x if len(x)==len(lines[1]) for x in lines]\n",
    "    cnt -= len(lines)\n",
    "    \n",
    "    df = pl.DataFrame(lines,\n",
    "                      schema = {\"eps\":pl.Float32, \"gamma\":pl.Float32,\n",
    "                                \"lr\":pl.Float32, \"step_reward\":pl.Float32,\n",
    "                                \"reward\":pl.Float32, \"moves\":pl.Int32,\n",
    "                                \"traps\":pl.Int32, \"energy\":pl.Int32,\n",
    "                                \"time\":pl.Float32})\n",
    "    \n",
    "    print(f\"found {cnt} invalid lines \")\n",
    "    \n",
    "    return df\n",
    "    \n",
    "    "
   ]
  },
  {
   "cell_type": "code",
   "execution_count": null,
   "id": "d6e008c9-2817-4b6a-b1d1-645eb0d83e2c",
   "metadata": {},
   "outputs": [],
   "source": []
  }
 ],
 "metadata": {
  "kernelspec": {
   "display_name": "Python 3 (ipykernel)",
   "language": "python",
   "name": "python3"
  },
  "language_info": {
   "codemirror_mode": {
    "name": "ipython",
    "version": 3
   },
   "file_extension": ".py",
   "mimetype": "text/x-python",
   "name": "python",
   "nbconvert_exporter": "python",
   "pygments_lexer": "ipython3",
   "version": "3.10.12"
  }
 },
 "nbformat": 4,
 "nbformat_minor": 5
}
